{
  "nbformat": 4,
  "nbformat_minor": 0,
  "metadata": {
    "colab": {
      "name": "CodeSLAM.ipynb",
      "provenance": [],
      "include_colab_link": true
    },
    "kernelspec": {
      "name": "python3",
      "display_name": "Python 3"
    }
  },
  "cells": [
    {
      "cell_type": "markdown",
      "metadata": {
        "id": "view-in-github",
        "colab_type": "text"
      },
      "source": [
        "<a href=\"https://colab.research.google.com/github/silviutroscot/CodeSLAM/blob/master/CodeSLAM.ipynb\" target=\"_parent\"><img src=\"https://colab.research.google.com/assets/colab-badge.svg\" alt=\"Open In Colab\"/></a>"
      ]
    },
    {
      "cell_type": "markdown",
      "metadata": {
        "id": "8_azmJjSK6Fu",
        "colab_type": "text"
      },
      "source": [
        "#CodeSLAM\n",
        "\n",
        "## Abstract"
      ]
    },
    {
      "cell_type": "code",
      "metadata": {
        "id": "gTygVZ5SIC4O",
        "colab_type": "code",
        "colab": {}
      },
      "source": [
        "from torch import vis\n",
        "import matplotlib as plt\n",
        "import torch"
      ],
      "execution_count": 0,
      "outputs": []
    }
  ]
}